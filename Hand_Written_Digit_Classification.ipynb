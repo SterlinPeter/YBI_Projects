{
  "nbformat": 4,
  "nbformat_minor": 0,
  "metadata": {
    "colab": {
      "name": "Hand Written Digit Classification.ipynb",
      "provenance": [],
      "authorship_tag": "ABX9TyOHjOfvPNfsDA5fhCf+0lmh",
      "include_colab_link": true
    },
    "kernelspec": {
      "name": "python3",
      "display_name": "Python 3"
    },
    "language_info": {
      "name": "python"
    }
  },
  "cells": [
    {
      "cell_type": "markdown",
      "metadata": {
        "id": "view-in-github",
        "colab_type": "text"
      },
      "source": [
        "<a href=\"https://colab.research.google.com/github/SterlinPeter/YBI_Projects/blob/main/Hand_Written_Digit_Classification.ipynb\" target=\"_parent\"><img src=\"https://colab.research.google.com/assets/colab-badge.svg\" alt=\"Open In Colab\"/></a>"
      ]
    },
    {
      "cell_type": "markdown",
      "source": [
        "#Import Data"
      ],
      "metadata": {
        "id": "UwV7qfk2ZlX6"
      }
    },
    {
      "cell_type": "code",
      "source": [
        "import pandas as pd"
      ],
      "metadata": {
        "id": "3Q9kENV3b8dm"
      },
      "execution_count": 1,
      "outputs": []
    },
    {
      "cell_type": "code",
      "source": [
        "import numpy as np"
      ],
      "metadata": {
        "id": "-29iu3-eb-BT"
      },
      "execution_count": 2,
      "outputs": []
    },
    {
      "cell_type": "code",
      "source": [
        "import matplotlib.pyplot as plt"
      ],
      "metadata": {
        "id": "RQew_YW0b_F2"
      },
      "execution_count": 3,
      "outputs": []
    },
    {
      "cell_type": "markdown",
      "source": [
        "#Import Data"
      ],
      "metadata": {
        "id": "OWkpO8ZscBVp"
      }
    },
    {
      "cell_type": "code",
      "source": [
        "from sklearn.datasets import load_digits"
      ],
      "metadata": {
        "id": "s0KAiW6ycF8f"
      },
      "execution_count": 4,
      "outputs": []
    },
    {
      "cell_type": "code",
      "source": [
        "df = load_digits()"
      ],
      "metadata": {
        "id": "criu08ewcKLw"
      },
      "execution_count": 5,
      "outputs": []
    },
    {
      "cell_type": "code",
      "source": [
        "_, axes = plt.subplots(nrows=1, ncols=4, figsize=(10, 3))\n",
        "for ax, image, label in zip(axes, df.images, df.target):\n",
        "  ax.set_axis_off()\n",
        "  ax.imshow(image, cmap=plt.cm.gray_r, interpolation='nearest')\n",
        "  ax.set_title('Training: %i' % label)"
      ],
      "metadata": {
        "colab": {
          "base_uri": "https://localhost:8080/",
          "height": 168
        },
        "id": "eWhAMTo3cL0Z",
        "outputId": "b207d6d2-169c-41fa-c448-1a6bde6c23d1"
      },
      "execution_count": 6,
      "outputs": [
        {
          "output_type": "display_data",
          "data": {
            "text/plain": [
              "<Figure size 720x216 with 4 Axes>"
            ],
            "image/png": "[encoded data removed]"
          },
          "metadata": {
            "needs_background": "light"
          }
        }
      ]
    },
    {
      "cell_type": "markdown",
      "source": [
        "#Flatten Image"
      ],
      "metadata": {
        "id": "df15yYTaceSf"
      }
    },
    {
      "cell_type": "code",
      "source": [
        "df.images.shape"
      ],
      "metadata": {
        "colab": {
          "base_uri": "https://localhost:8080/"
        },
        "id": "SocAsAJCde-j",
        "outputId": "849e46b0-287d-4a08-ae84-41f9e5b1c150"
      },
      "execution_count": 7,
      "outputs": [
        {
          "output_type": "execute_result",
          "data": {
            "text/plain": [
              "(1797, 8, 8)"
            ]
          },
          "metadata": {},
          "execution_count": 7
        }
      ]
    },
    {
      "cell_type": "code",
      "source": [
        "n_samples = len(df.images)\n",
        "data = df.images.reshape((n_samples, -1))"
      ],
      "metadata": {
        "id": "no_XPfrfdjkI"
      },
      "execution_count": 8,
      "outputs": []
    },
    {
      "cell_type": "code",
      "source": [
        "data.shape"
      ],
      "metadata": {
        "colab": {
          "base_uri": "https://localhost:8080/"
        },
        "id": "bkEbDS0Idrit",
        "outputId": "bcb8453c-965e-4bd9-976f-82db3f4f4697"
      },
      "execution_count": 9,
      "outputs": [
        {
          "output_type": "execute_result",
          "data": {
            "text/plain": [
              "(1797, 64)"
            ]
          },
          "metadata": {},
          "execution_count": 9
        }
      ]
    },
    {
      "cell_type": "code",
      "source": [
        "df.target"
      ],
      "metadata": {
        "colab": {
          "base_uri": "https://localhost:8080/"
        },
        "id": "JwC0HQCyegLu",
        "outputId": "38946182-9b1a-4be0-cd2e-fa14d64406d4"
      },
      "execution_count": 10,
      "outputs": [
        {
          "output_type": "execute_result",
          "data": {
            "text/plain": [
              "array([0, 1, 2, ..., 8, 9, 8])"
            ]
          },
          "metadata": {},
          "execution_count": 10
        }
      ]
    },
    {
      "cell_type": "markdown",
      "source": [
        "#Scaling Data"
      ],
      "metadata": {
        "id": "18624we7dtSG"
      }
    },
    {
      "cell_type": "code",
      "source": [
        "data.min()"
      ],
      "metadata": {
        "colab": {
          "base_uri": "https://localhost:8080/"
        },
        "id": "o1fFPedTdxyr",
        "outputId": "a3a9e5af-f9f0-47d1-8793-2e281ded5ec3"
      },
      "execution_count": 11,
      "outputs": [
        {
          "output_type": "execute_result",
          "data": {
            "text/plain": [
              "0.0"
            ]
          },
          "metadata": {},
          "execution_count": 11
        }
      ]
    },
    {
      "cell_type": "code",
      "source": [
        "data.max()"
      ],
      "metadata": {
        "colab": {
          "base_uri": "https://localhost:8080/"
        },
        "id": "Q0FG3M2kdyy3",
        "outputId": "6612682d-a935-4db0-b859-0a2dc6419bfa"
      },
      "execution_count": 12,
      "outputs": [
        {
          "output_type": "execute_result",
          "data": {
            "text/plain": [
              "16.0"
            ]
          },
          "metadata": {},
          "execution_count": 12
        }
      ]
    },
    {
      "cell_type": "code",
      "source": [
        "data = data/16"
      ],
      "metadata": {
        "id": "8HK8KyaJdzqS"
      },
      "execution_count": 13,
      "outputs": []
    },
    {
      "cell_type": "markdown",
      "source": [
        "#Split Data"
      ],
      "metadata": {
        "id": "o0jo_3cPd5oS"
      }
    },
    {
      "cell_type": "code",
      "source": [
        "from sklearn.model_selection import train_test_split"
      ],
      "metadata": {
        "id": "QSB529pKeCiR"
      },
      "execution_count": 14,
      "outputs": []
    },
    {
      "cell_type": "code",
      "source": [
        "X_train, X_test, y_train, y_test = train_test_split(data, df.target, test_size = 0.3, random_state = 192529)"
      ],
      "metadata": {
        "id": "CkUmeXNOeH1Q"
      },
      "execution_count": 15,
      "outputs": []
    },
    {
      "cell_type": "markdown",
      "source": [
        "#Import Random Forest Classfier"
      ],
      "metadata": {
        "id": "_-jm0PC7eSpK"
      }
    },
    {
      "cell_type": "code",
      "source": [
        "from sklearn.ensemble import RandomForestClassifier"
      ],
      "metadata": {
        "id": "bznIUJx8etcq"
      },
      "execution_count": 16,
      "outputs": []
    },
    {
      "cell_type": "code",
      "source": [
        "rf = RandomForestClassifier()"
      ],
      "metadata": {
        "id": "InskiS7reybM"
      },
      "execution_count": 17,
      "outputs": []
    },
    {
      "cell_type": "code",
      "source": [
        "rf.fit(X_train, y_train)"
      ],
      "metadata": {
        "colab": {
          "base_uri": "https://localhost:8080/"
        },
        "id": "jVrhbaOYezoi",
        "outputId": "f53875b7-3a9a-45a8-b986-edbd5ff5b0fe"
      },
      "execution_count": 18,
      "outputs": [
        {
          "output_type": "execute_result",
          "data": {
            "text/plain": [
              "RandomForestClassifier()"
            ]
          },
          "metadata": {},
          "execution_count": 18
        }
      ]
    },
    {
      "cell_type": "markdown",
      "source": [
        "#Predict Test Data"
      ],
      "metadata": {
        "id": "l3eFjzybe1Rp"
      }
    },
    {
      "cell_type": "code",
      "source": [
        "y_pred = rf.predict(X_test)"
      ],
      "metadata": {
        "id": "X0Pa2g3Ke4m9"
      },
      "execution_count": 19,
      "outputs": []
    },
    {
      "cell_type": "code",
      "source": [
        "y_pred"
      ],
      "metadata": {
        "colab": {
          "base_uri": "https://localhost:8080/"
        },
        "id": "lnV_lSUgfADD",
        "outputId": "7374c953-0397-4fc1-a27c-d6270bce3a96"
      },
      "execution_count": 20,
      "outputs": [
        {
          "output_type": "execute_result",
          "data": {
            "text/plain": [
              "array([7, 4, 4, 0, 3, 0, 5, 1, 4, 2, 9, 1, 5, 6, 6, 2, 5, 8, 3, 9, 2, 1,\n",
              "       4, 6, 6, 2, 8, 3, 4, 8, 3, 7, 8, 8, 2, 8, 1, 6, 4, 8, 8, 7, 0, 2,\n",
              "       5, 8, 9, 9, 9, 6, 4, 6, 6, 9, 7, 8, 9, 1, 9, 4, 4, 3, 6, 0, 9, 0,\n",
              "       4, 2, 5, 7, 2, 7, 0, 8, 7, 9, 9, 3, 5, 5, 7, 5, 2, 0, 2, 4, 5, 8,\n",
              "       5, 2, 4, 1, 6, 3, 8, 2, 8, 3, 4, 9, 4, 9, 4, 1, 4, 6, 5, 5, 6, 5,\n",
              "       4, 4, 8, 4, 8, 1, 6, 4, 2, 2, 6, 1, 0, 3, 0, 2, 8, 3, 0, 8, 5, 4,\n",
              "       5, 3, 6, 8, 4, 4, 6, 7, 5, 3, 9, 3, 0, 8, 7, 3, 2, 9, 4, 5, 6, 9,\n",
              "       6, 0, 6, 8, 0, 9, 9, 2, 1, 7, 6, 5, 9, 3, 3, 5, 6, 4, 4, 7, 1, 6,\n",
              "       1, 6, 8, 8, 9, 0, 3, 5, 0, 1, 4, 6, 9, 2, 8, 9, 3, 5, 0, 6, 1, 0,\n",
              "       0, 2, 4, 4, 5, 0, 4, 4, 7, 9, 2, 9, 6, 4, 1, 2, 0, 7, 3, 7, 9, 8,\n",
              "       4, 3, 8, 9, 8, 6, 2, 7, 5, 1, 9, 9, 1, 3, 8, 3, 4, 6, 9, 7, 7, 2,\n",
              "       1, 7, 3, 3, 5, 9, 6, 7, 7, 7, 1, 0, 1, 7, 7, 4, 8, 2, 5, 7, 0, 2,\n",
              "       7, 0, 0, 9, 1, 1, 7, 7, 1, 6, 1, 9, 6, 9, 6, 6, 2, 9, 2, 5, 4, 6,\n",
              "       5, 3, 1, 0, 9, 8, 2, 5, 7, 5, 5, 4, 2, 2, 1, 1, 0, 6, 2, 7, 1, 2,\n",
              "       7, 5, 1, 2, 1, 9, 4, 1, 0, 3, 3, 3, 1, 6, 8, 2, 9, 4, 2, 3, 3, 1,\n",
              "       2, 0, 1, 7, 7, 2, 6, 7, 5, 7, 1, 9, 1, 0, 4, 1, 4, 1, 7, 5, 1, 3,\n",
              "       1, 8, 6, 9, 3, 3, 3, 6, 5, 9, 7, 6, 5, 8, 4, 2, 2, 9, 5, 2, 8, 1,\n",
              "       6, 3, 1, 5, 3, 2, 0, 5, 6, 0, 4, 7, 5, 6, 5, 3, 7, 2, 8, 3, 6, 1,\n",
              "       9, 9, 3, 2, 4, 7, 3, 0, 3, 6, 7, 7, 5, 0, 5, 7, 4, 7, 3, 5, 9, 5,\n",
              "       0, 9, 7, 3, 0, 6, 8, 5, 9, 5, 7, 1, 9, 6, 6, 3, 5, 0, 8, 9, 6, 8,\n",
              "       0, 7, 6, 4, 8, 2, 4, 7, 0, 6, 8, 7, 8, 9, 2, 4, 3, 8, 2, 2, 5, 4,\n",
              "       3, 4, 9, 0, 3, 6, 9, 1, 8, 3, 5, 9, 6, 6, 4, 1, 7, 3, 0, 3, 3, 0,\n",
              "       0, 6, 0, 0, 3, 9, 4, 2, 1, 7, 9, 5, 1, 6, 4, 6, 1, 9, 7, 8, 8, 8,\n",
              "       4, 4, 0, 9, 1, 3, 1, 3, 2, 8, 5, 0, 2, 6, 9, 1, 9, 9, 5, 5, 3, 3,\n",
              "       5, 4, 0, 6, 0, 1, 3, 6, 6, 5, 6, 8])"
            ]
          },
          "metadata": {},
          "execution_count": 20
        }
      ]
    },
    {
      "cell_type": "markdown",
      "source": [
        "#Evaluate Model"
      ],
      "metadata": {
        "id": "6aP75Hx1fHWe"
      }
    },
    {
      "cell_type": "code",
      "source": [
        "from sklearn.metrics import confusion_matrix, classification_report"
      ],
      "metadata": {
        "id": "pV9JPd65fLt0"
      },
      "execution_count": 21,
      "outputs": []
    },
    {
      "cell_type": "code",
      "source": [
        "confusion_matrix(y_test, y_pred)"
      ],
      "metadata": {
        "colab": {
          "base_uri": "https://localhost:8080/"
        },
        "id": "df6fI21VfTSC",
        "outputId": "9fe5d488-2008-463a-9425-ef4cc8830ebb"
      },
      "execution_count": 22,
      "outputs": [
        {
          "output_type": "execute_result",
          "data": {
            "text/plain": [
              "array([[48,  0,  0,  0,  0,  0,  0,  0,  0,  0],\n",
              "       [ 0, 51,  0,  0,  0,  0,  0,  0,  0,  0],\n",
              "       [ 0,  0, 50,  0,  0,  0,  0,  0,  0,  0],\n",
              "       [ 0,  0,  0, 57,  0,  1,  0,  2,  0,  0],\n",
              "       [ 0,  0,  0,  0, 55,  0,  0,  1,  0,  0],\n",
              "       [ 0,  0,  0,  0,  1, 52,  0,  0,  0,  1],\n",
              "       [ 0,  0,  0,  0,  0,  0, 62,  0,  0,  0],\n",
              "       [ 0,  0,  0,  0,  0,  0,  0, 49,  0,  0],\n",
              "       [ 0,  2,  0,  0,  0,  1,  0,  0, 48,  1],\n",
              "       [ 0,  0,  0,  0,  0,  1,  0,  0,  0, 57]])"
            ]
          },
          "metadata": {},
          "execution_count": 22
        }
      ]
    },
    {
      "cell_type": "code",
      "source": [
        "print(classification_report(y_test, y_pred))"
      ],
      "metadata": {
        "colab": {
          "base_uri": "https://localhost:8080/"
        },
        "id": "jUZuf2oQfV6h",
        "outputId": "f866b4fd-532f-4826-e6b8-89b9e51cac82"
      },
      "execution_count": 23,
      "outputs": [
        {
          "output_type": "stream",
          "name": "stdout",
          "text": [
            "              precision    recall  f1-score   support\n",
            "\n",
            "           0       1.00      1.00      1.00        48\n",
            "           1       0.96      1.00      0.98        51\n",
            "           2       1.00      1.00      1.00        50\n",
            "           3       1.00      0.95      0.97        60\n",
            "           4       0.98      0.98      0.98        56\n",
            "           5       0.95      0.96      0.95        54\n",
            "           6       1.00      1.00      1.00        62\n",
            "           7       0.94      1.00      0.97        49\n",
            "           8       1.00      0.92      0.96        52\n",
            "           9       0.97      0.98      0.97        58\n",
            "\n",
            "    accuracy                           0.98       540\n",
            "   macro avg       0.98      0.98      0.98       540\n",
            "weighted avg       0.98      0.98      0.98       540\n",
            "\n"
          ]
        }
      ]
    }
  ]
}